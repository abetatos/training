{
 "cells": [
  {
   "cell_type": "code",
   "execution_count": 145,
   "id": "aecf5845-ea68-4674-b9bb-40899b911f06",
   "metadata": {},
   "outputs": [],
   "source": [
    "from skimage.metrics import structural_similarity\n",
    "import datasets\n",
    "from diffusers import StableDiffusionPipeline\n",
    "import torch\n",
    "import cv2\n",
    "import numpy as np\n",
    "import matplotlib.pyplot as plt\n",
    "from tqdm.auto import tqdm"
   ]
  },
  {
   "cell_type": "code",
   "execution_count": 17,
   "id": "5044ec83-50f7-48d7-8457-35c3f5a6fb4e",
   "metadata": {},
   "outputs": [
    {
     "name": "stderr",
     "output_type": "stream",
     "text": [
      "Loading pipeline components...:  57%|████████████████████████████████████████████████████████████████████████████████████████████████████████████████████████████████████▌                                                                                                   | 4/7 [00:00<00:00,  8.03it/s]`text_config_dict` is provided which will be used to initialize `CLIPTextConfig`. The value `text_config[\"id2label\"]` will be overriden.\n",
      "`text_config_dict` is provided which will be used to initialize `CLIPTextConfig`. The value `text_config[\"bos_token_id\"]` will be overriden.\n",
      "`text_config_dict` is provided which will be used to initialize `CLIPTextConfig`. The value `text_config[\"eos_token_id\"]` will be overriden.\n",
      "Loading pipeline components...: 100%|████████████████████████████████████████████████████████████████████████████████████████████████████████████████████████████████████████████████████████████████████████████████████████████████████████████████████████████████████████| 7/7 [00:00<00:00,  9.38it/s]\n"
     ]
    }
   ],
   "source": [
    "pokedata = datasets.load_dataset(\"lambdalabs/pokemon-blip-captions\")\n",
    "\n",
    "model_path = \"sd-pokemon-model-lora\"\n",
    "pipe = StableDiffusionPipeline.from_pretrained(\"CompVis/stable-diffusion-v1-4\", torch_dtype=torch.float16)\n",
    "pipe.unet.load_attn_procs(model_path)\n",
    "pipe.to(\"cuda\")\n",
    "pass"
   ]
  },
  {
   "cell_type": "code",
   "execution_count": 143,
   "id": "d6713a2a-d2a6-45cc-bf70-ece857904979",
   "metadata": {},
   "outputs": [],
   "source": [
    "# def SSIM(*images):\n",
    "#     assert len(images) == 2\n",
    "#     images = [np.array(image.resize((512, 512))) for image in images]\n",
    "#     return np.mean([structural_similarity(*[image[:,:,n_channel] for image in images]) for n_channel in range(3)])\n",
    "\n",
    "def SSIM(*images):\n",
    "    assert len(images) == 2\n",
    "    images = [np.array(image.resize((512, 512)).convert(\"L\")) for image in images]\n",
    "    return structural_similarity(*images)\n",
    "\n",
    "def SIFT(image1, image2):\n",
    "    # Initialize SIFT detector\n",
    "    sift = cv2.SIFT_create()\n",
    "    \n",
    "    # Find the keypoints and descriptor\n",
    "    keypoints1, descriptors1 = sift.detectAndCompute(np.array(image1.convert(\"L\")), None)\n",
    "    keypoints2, descriptors2 = sift.detectAndCompute(np.array(image2.convert(\"L\")), None)\n",
    "    \n",
    "    # BFMatcher with default params\n",
    "    bf = cv2.BFMatcher()\n",
    "    matches = bf.knnMatch(descriptors1, descriptors2, k=2)\n",
    "    \n",
    "    # Apply ratio test\n",
    "    good_matches = []\n",
    "    for m, n in matches:\n",
    "        if m.distance < 0.75 * n.distance:\n",
    "            good_matches.append(m)\n",
    "    \n",
    "    # Calculate similarity score\n",
    "    similarity_score = len(good_matches) / max(len(keypoints1), len(keypoints2))\n",
    "    return similarity_score"
   ]
  },
  {
   "cell_type": "code",
   "execution_count": 125,
   "id": "38bcdbe9-19ce-4c98-ba60-87d85d533ab9",
   "metadata": {},
   "outputs": [],
   "source": [
    "def is_all_black(image):\n",
    "    return np.all(np.array(image) == 0)"
   ]
  },
  {
   "cell_type": "code",
   "execution_count": null,
   "id": "247068ac-f4e8-4c6f-bfa5-80907adc9aa2",
   "metadata": {
    "scrolled": true
   },
   "outputs": [
    {
     "name": "stdout",
     "output_type": "stream",
     "text": [
      "a drawing of a green pokemon with red eyes\n"
     ]
    },
    {
     "name": "stderr",
     "output_type": "stream",
     "text": [
      "100%|██████████████████████████████████████████████████████████████████████████████████████████████████████████████████████████████████████████████████████████████████████████████████████████████████████████████████████████████████████████████████████████████████████| 30/30 [00:01<00:00, 17.46it/s]\n",
      "539it [01:06,  5.91it/s]"
     ]
    }
   ],
   "source": [
    "n = 10\n",
    "scorer = SIFT\n",
    "\n",
    "for pokeimage, poketext in zip(*pokedata['train'][:n].values()):\n",
    "    print(poketext)\n",
    "\n",
    "    pokepredimages = pipe(poketext + \" with white background\" , num_inference_steps=30, guidance_scale=7.5).images\n",
    "\n",
    "    for pokepredimage in pokepredimages:\n",
    "        if not is_all_black(pokepredimage): \n",
    "            break\n",
    "    else:\n",
    "        print(\"All images were filtered\")\n",
    "        continue\n",
    "\n",
    "    aux = []\n",
    "    for pokeimage_, _ in tqdm(zip(*pokedata['train'][:].values())):\n",
    "        score = scorer(pokeimage_, pokepredimage)\n",
    "        aux.append((score, pokeimage_))\n",
    "\n",
    "    pred_ssim, pred_image = list(sorted(aux, key=lambda x: x[0], reverse=True))[0]\n",
    "\n",
    "\n",
    "    fig, axes = plt.subplots(1, 3, figsize=(10, 5))\n",
    "    axes[0].imshow(pokeimage)\n",
    "    axes[0].set_title(f\"Score: {scorer(pokeimage, pokepredimage):3f}\")\n",
    "\n",
    "    axes[1].imshow(pokepredimage)\n",
    "    axes[2].imshow(pred_image)\n",
    "    axes[2].set_title(f\"Score: {pred_ssim:3f}\")\n",
    "    plt.show()"
   ]
  }
 ],
 "metadata": {
  "kernelspec": {
   "display_name": "Python 3 (ipykernel)",
   "language": "python",
   "name": "python3"
  },
  "language_info": {
   "codemirror_mode": {
    "name": "ipython",
    "version": 3
   },
   "file_extension": ".py",
   "mimetype": "text/x-python",
   "name": "python",
   "nbconvert_exporter": "python",
   "pygments_lexer": "ipython3",
   "version": "3.10.12"
  }
 },
 "nbformat": 4,
 "nbformat_minor": 5
}
