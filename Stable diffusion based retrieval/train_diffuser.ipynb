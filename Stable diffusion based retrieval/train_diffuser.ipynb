{
 "cells": [
  {
   "cell_type": "code",
   "execution_count": null,
   "metadata": {},
   "outputs": [],
   "source": []
  }
 ],
 "metadata": {
  "kernelspec": {
   "display_name": "base",
   "language": "python",
   "name": "python3"
  },
  "language_info": {
   "name": "python",
   "version": "3.9.12"
  },
  "orig_nbformat": 4,
  "vscode": {
   "interpreter": {
    "hash": "7fbaea59a556f850a4c135c08d5a5065acf6972a30fac7deffa9c68b8441b1b7"
   }
  }
 },
 "nbformat": 4,
 "nbformat_minor": 2
}
